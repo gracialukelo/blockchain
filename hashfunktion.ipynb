{
  "nbformat": 4,
  "nbformat_minor": 0,
  "metadata": {
    "colab": {
      "provenance": [],
      "authorship_tag": "ABX9TyNx3jGBoruIRN6fI05R0QoC",
      "include_colab_link": true
    },
    "kernelspec": {
      "name": "python3",
      "display_name": "Python 3"
    },
    "language_info": {
      "name": "python"
    }
  },
  "cells": [
    {
      "cell_type": "markdown",
      "metadata": {
        "id": "view-in-github",
        "colab_type": "text"
      },
      "source": [
        "<a href=\"https://colab.research.google.com/github/gracialukelo/blockchain/blob/main/hashfunktion.ipynb\" target=\"_parent\"><img src=\"https://colab.research.google.com/assets/colab-badge.svg\" alt=\"Open In Colab\"/></a>"
      ]
    },
    {
      "cell_type": "markdown",
      "source": [
        "**Blockchains setzen zwei kryptografische Grundbausteine voraus, die kryptografische Hashfunktionen und digitale Signaturen.**"
      ],
      "metadata": {
        "id": "ZbCyR7UlWScD"
      }
    },
    {
      "cell_type": "markdown",
      "source": [
        "Eine Hashfunktion ist wie eine Maschine, die jede Art von Eingabe (egal, wie groß oder klein sie ist) in eine feste, einzigartige Ausgabe verwandelt.\n",
        "\n",
        "\n",
        "Beispiel:\n",
        "\n",
        "+ Du gibst ein Wort, einen Satz oder ein ganzes Buch in diese \"Maschine\".\n",
        "+ Sie spuckt immer einen \"Code\" (eine Bitfolge) mit fester Länge aus – egal, wie groß die Eingabe war.\n",
        "\n",
        "\n",
        "Das Besondere ist:\n",
        "\n",
        "1. Feste Länge: Egal, ob du ein Wort oder ein Buch eingibst, die Länge des Ergebnisses ist immer gleich (z. B. 256 Bits).\n",
        "2. Effizient: Die Umwandlung geht schnell.\n",
        "3. Einzigartig: Jede Eingabe erzeugt (fast immer) eine andere Ausgabe. Selbst bei kleinen Änderungen der Eingabe ändert sich der Hash komplett.\n",
        "Ein einfacher Vergleich wäre:\n",
        "Stell dir vor, die Hashfunktion ist wie ein digitaler Fingerabdruck-Scanner für Daten. Sie nimmt die Daten und erstellt einen einzigartigen Fingerabdruck mit immer derselben Länge."
      ],
      "metadata": {
        "id": "HYx-c8IJWrdg"
      }
    },
    {
      "cell_type": "code",
      "execution_count": 3,
      "metadata": {
        "id": "x-uL7h0vWFKl"
      },
      "outputs": [],
      "source": [
        "# Eine vielfach verwendete Hashfunktion ist SHA-256.\n",
        "import hashlib"
      ]
    },
    {
      "cell_type": "code",
      "source": [
        "print(hashlib.sha256(b\"Gracia Lukelo\").hexdigest())"
      ],
      "metadata": {
        "colab": {
          "base_uri": "https://localhost:8080/"
        },
        "id": "GcRfMnbwWQE_",
        "outputId": "1246ad4d-39d5-43d7-d9ef-91c3109aa929"
      },
      "execution_count": 5,
      "outputs": [
        {
          "output_type": "stream",
          "name": "stdout",
          "text": [
            "ed1ad40a83d6e88984bace5764a36b09ebbf9257c878a83389cf633b67a58637\n"
          ]
        }
      ]
    },
    {
      "cell_type": "markdown",
      "source": [
        "**Kryptografische Hashfunktionen.** Eine kryptografische Hashfunktion ist eine Hashfunktion, die gewisse Sicherheitseigenschaften\n",
        "hat. Die beiden wichtigsten typischerweise geforderten Sicherheitseigenschaften sind die Einwegfunktionseigenschaft (englisch: preimage-resistance) und die Kollisionsresistenz (englisch: collisionresistance). Die Hashfunktion SHA-256 ist eine Einwegfunktion\n",
        "und auch kollisionsresistent."
      ],
      "metadata": {
        "id": "T68quGYOYE_I"
      }
    },
    {
      "cell_type": "markdown",
      "source": [
        "### Einwegfunktion\n",
        "Eine Hashfunktion h ist eine Einwegfunktion, wenn\n",
        "es praktisch unmöglich ist, zu einem gegebenen Ausgabewert y einen Eingabewert x zu finden, den die\n",
        "Hashfunktion auf y abbildet: h(x) = y."
      ],
      "metadata": {
        "id": "BQeOb_ktYpK-"
      }
    },
    {
      "cell_type": "markdown",
      "source": [
        "###Kollisionsresistenz\n",
        "Eine Hashfunktion h ist kollisionsresistent, wenn es\n",
        "praktisch unmöglich ist, zwei verschiedene Eingabewerte x und y zu finden, sodass h(x) = h(y).\n",
        "Ein Paar zweier solcher Eingabewerte x und y mit\n",
        "gleichem Ausgabewert wird auch Kollision genannt.\n",
        "\n",
        "Du gibst nicht aktiv zwei Werte ein. Stattdessen versucht ein Angreifer, zwei unterschiedliche Eingaben\n",
        "𝑥\n",
        "x und\n",
        "𝑦\n",
        "y zu erzeugen, die denselben Hash-Wert haben.\n",
        "\n",
        "\n",
        "Eingabe\n",
        "𝑥\n",
        "=\n",
        "\"\n",
        "𝐴\n",
        "𝑝\n",
        "𝑓\n",
        "𝑒\n",
        "𝑙\n",
        "\"\n",
        "x=\"Apfel\" → Hash-Wert:\n",
        "ℎ\n",
        "(\n",
        "𝑥\n",
        ")\n",
        "=\n",
        "\"\n",
        "12345\n",
        "\"\n",
        "h(x)=\"12345\".\n",
        "Angreifer sucht nun eine andere Eingabe\n",
        "𝑦\n",
        "=\n",
        "\"\n",
        "𝐵\n",
        "𝑖\n",
        "𝑟\n",
        "𝑛\n",
        "𝑒\n",
        "\"\n",
        "y=\"Birne\", sodass\n",
        "ℎ\n",
        "(\n",
        "𝑦\n",
        ")\n",
        "=\n",
        "\"\n",
        "12345\n",
        "\"\n",
        "h(y)=\"12345\"."
      ],
      "metadata": {
        "id": "iexao1-iaCGi"
      }
    },
    {
      "cell_type": "markdown",
      "source": [
        "# Vereinfachte Erklärung von Hashfunktion, Einwegfunktion und Kollisionsresistenz\n",
        "\n",
        "## **Hashfunktion**\n",
        "- Alice speichert eine große Datei bei Bob und löscht sie von ihrem Laptop, um Platz zu sparen.\n",
        "- Vorher berechnet sie einen **Hashwert** der Datei und speichert diesen kleinen Wert lokal ab.\n",
        "- Später, wenn sie die Datei von Bob herunterlädt, berechnet sie erneut den Hashwert der heruntergeladenen Datei.\n",
        "- **Vergleich:** Wenn der neue Hash mit dem gespeicherten Hash übereinstimmt, weiß Alice, dass die Datei korrekt übertragen wurde (keine Fehler oder Manipulationen).\n",
        "\n",
        "---\n",
        "\n",
        "## **Einwegfunktion**\n",
        "- Wenn der Hashwert mit einer **Einwegfunktion** erzeugt wurde, kann niemand den ursprünglichen Inhalt der Datei nur aus dem Hashwert rekonstruieren.\n",
        "- **Beispiel:** Wenn jemand den Hashwert von Alice stiehlt, bleibt die Datei trotzdem sicher, weil der Dieb den Inhalt nicht zurückrechnen kann.\n",
        "\n",
        "---\n",
        "\n",
        "## **Kollisionsresistenz**\n",
        "- Bob könnte versuchen, Alice eine gefälschte Datei unterzujubeln.\n",
        "- Damit Alice die Fälschung nicht bemerkt, müsste diese Datei denselben Hashwert haben wie die Originaldatei.\n",
        "- Dank der **Kollisionsresistenz** ist es praktisch unmöglich, zwei unterschiedliche Dateien zu finden, die denselben Hashwert haben. So erkennt Alice die Fälschung.\n",
        "\n",
        "---\n",
        "\n",
        "## **Zusammenfassung**\n",
        "- **Hashfunktion:** Prüft, ob die Datei unbeschädigt und unverändert ist.\n",
        "- **Einwegfunktion:** Macht den Hashwert sicher, sodass niemand die Datei rekonstruieren kann.\n",
        "- **Kollisionsresistenz:** Verhindert, dass jemand eine Fälschung mit demselben Hashwert erstellt.\n"
      ],
      "metadata": {
        "id": "65xrhS6Eehi7"
      }
    },
    {
      "cell_type": "markdown",
      "source": [
        "bei"
      ],
      "metadata": {
        "id": "ra7VmlRHcobm"
      }
    },
    {
      "cell_type": "code",
      "source": [],
      "metadata": {
        "id": "b0zP0MdHXZt1"
      },
      "execution_count": 7,
      "outputs": []
    },
    {
      "cell_type": "code",
      "source": [],
      "metadata": {
        "id": "2jmnnaIYZ_Tz"
      },
      "execution_count": null,
      "outputs": []
    }
  ]
}